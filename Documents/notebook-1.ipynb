{
 "cells": [
  {
   "cell_type": "markdown",
   "id": "6a4e46a0",
   "metadata": {},
   "source": [
    "## Printing to Screen"
   ]
  },
  {
   "cell_type": "code",
   "execution_count": 5,
   "id": "38d9e034",
   "metadata": {},
   "outputs": [
    {
     "name": "stdout",
     "output_type": "stream",
     "text": [
      "Hello world :-)\n"
     ]
    }
   ],
   "source": [
    "print(\"Hello world :-)\")"
   ]
  },
  {
   "cell_type": "markdown",
   "id": "5eb0fce9",
   "metadata": {},
   "source": [
    "## Variable assignment"
   ]
  },
  {
   "cell_type": "code",
   "execution_count": 3,
   "id": "4a071810",
   "metadata": {},
   "outputs": [
    {
     "name": "stdout",
     "output_type": "stream",
     "text": [
      "7\n",
      "8\n"
     ]
    }
   ],
   "source": [
    "var = 7\n",
    "print(var)\n",
    "var += 1\n",
    "print(var)"
   ]
  },
  {
   "cell_type": "code",
   "execution_count": null,
   "id": "0c0a97ea",
   "metadata": {},
   "outputs": [],
   "source": []
  }
 ],
 "metadata": {
  "kernelspec": {
   "display_name": "Python 3",
   "language": "python",
   "name": "python3"
  },
  "language_info": {
   "codemirror_mode": {
    "name": "ipython",
    "version": 3
   },
   "file_extension": ".py",
   "mimetype": "text/x-python",
   "name": "python",
   "nbconvert_exporter": "python",
   "pygments_lexer": "ipython3",
   "version": "3.9.5"
  }
 },
 "nbformat": 4,
 "nbformat_minor": 5
}
